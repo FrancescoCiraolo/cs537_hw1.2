{
 "cells": [
  {
   "cell_type": "code",
   "execution_count": 1,
   "id": "55f5ccad-3889-4933-a177-1a370ece9615",
   "metadata": {},
   "outputs": [],
   "source": [
    "class window:\n",
    "    \n",
    "    def __init__(self, size):\n",
    "        self.size = size\n",
    "        self._data = [0] * size\n",
    "        self.pos = 0\n",
    "        \n",
    "    def __getitem__(self, key):\n",
    "        return self._data[(key + self.pos) % self.size]\n",
    "        \n",
    "    def __setitem__(self, key, value):\n",
    "        self._data[(key + self.pos) % self.size] = value\n",
    "        \n",
    "    def forward(self):\n",
    "        self._data[self.pos] = 0\n",
    "        self.pos = (self.pos + 1) % self.size\n",
    "        \n",
    "        \n",
    "    def data_sum(self):\n",
    "        return sum(self._data)"
   ]
  },
  {
   "cell_type": "code",
   "execution_count": 2,
   "id": "18009446-e9f3-4e63-9c9b-f7b83936de11",
   "metadata": {},
   "outputs": [],
   "source": [
    "def routine(n, p):\n",
    "    _debug = 0\n",
    "    W = window(10)\n",
    "    W[n - 1] = 1\n",
    "    s = p - 1\n",
    "    while s > 0:\n",
    "        current = W[0] / 13\n",
    "        W.forward()\n",
    "        \n",
    "        _debug += 1\n",
    "        if W.data_sum() > 1:\n",
    "            print(f'{_debug}: WARNING {W.data_sum()}')\n",
    "        \n",
    "        for i in range(0, 10):\n",
    "            d = current\n",
    "            if i == 4:\n",
    "                d *= 4\n",
    "            W[i] += d\n",
    "            if W[i] > 1:\n",
    "                print(f'{_debug}: ERROR W[{i + 1}]={W[i]}')\n",
    "            \n",
    "        s -= 1\n",
    "    return W[0]"
   ]
  },
  {
   "cell_type": "code",
   "execution_count": 4,
   "id": "d4f33a07-0e04-4305-8e94-62491db5f303",
   "metadata": {},
   "outputs": [
    {
     "data": {
      "text/plain": [
       "0.18571428571428578"
      ]
     },
     "execution_count": 4,
     "metadata": {},
     "output_type": "execute_result"
    }
   ],
   "source": [
    "routine(1,6548)"
   ]
  }
 ],
 "metadata": {
  "kernelspec": {
   "display_name": "Python 3 (ipykernel)",
   "language": "python",
   "name": "python3"
  },
  "language_info": {
   "codemirror_mode": {
    "name": "ipython",
    "version": 3
   },
   "file_extension": ".py",
   "mimetype": "text/x-python",
   "name": "python",
   "nbconvert_exporter": "python",
   "pygments_lexer": "ipython3",
   "version": "3.10.4"
  }
 },
 "nbformat": 4,
 "nbformat_minor": 5
}
